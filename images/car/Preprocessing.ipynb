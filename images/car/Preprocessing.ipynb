{
 "cells": [
  {
   "cell_type": "markdown",
   "id": "21a80b02-2004-4402-8764-e23b7816cac1",
   "metadata": {},
   "source": [
    "# Preprocessing"
   ]
  },
  {
   "cell_type": "code",
   "execution_count": 2,
   "id": "9db116ae-5e71-4f9f-a6d5-34874d7ef193",
   "metadata": {},
   "outputs": [],
   "source": [
    "from PIL import Image\n",
    "import os\n",
    "\n",
    "def crop_resize_and_save(source_dir, target_dir, target_size=(256, 256)):\n",
    "    # Falls Zielordner nicht vorhanden --> erstellen\n",
    "    if not os.path.exists(target_dir):\n",
    "        os.makedirs(target_dir)\n",
    "        # durchgehen aller Dateien im Ordner\n",
    "        for filename in os.listdir(source_dir):\n",
    "            if filename.lower().endswith(('.jpg')):\n",
    "                # Pfad zur Quelldatei\n",
    "                file_path = os.path.join(source_dir, filename)\n",
    "                \n",
    "                # Bild laden\n",
    "                with Image.open(file_path) as img:\n",
    "                    width, height = img.size\n",
    "                    # kleineren Wert ermitteln, um das Bild nicht zu verzerren aber auch gleichzeitig so wenig wie möglich an Info zu verlieren \n",
    "                    new_size = min(width, height)\n",
    "                    \n",
    "                    left = (width - new_size) / 2\n",
    "                    top = (height - new_size) / 2\n",
    "                    right = (width + new_size) / 2\n",
    "                    bottom = (height + new_size) / 2\n",
    "                    \n",
    "                    # Bild croppen und resizen \n",
    "                    img_cropped = img.crop((left, top, right, bottom))\n",
    "                    img_resized = img_cropped.resize(target_size, Image.LANCZOS)\n",
    "                    \n",
    "                    save_path = os.path.join(target_dir, filename)\n",
    "                    img_resized.save(save_path)\n",
    "    else:\n",
    "        print(\"Ordner bereits vorhanden!\")"
   ]
  },
  {
   "cell_type": "code",
   "execution_count": 3,
   "id": "4d0a9735-db4a-48e0-aced-683460501cf9",
   "metadata": {},
   "outputs": [],
   "source": [
    "target_size = 512\n",
    "# label real oder fake\n",
    "labels = [\"real\", \"fake\"]\n",
    "\n",
    "source_dir = \"./Fake-Real/\"\n",
    "target_dir = \"./preprocessed_\" + str(target_size) + \"x/\"\n",
    "\n",
    "crop_resize_and_save(source_dir + labels[0], target_dir + labels[0], target_size=(target_size, target_size))\n",
    "crop_resize_and_save(source_dir + labels[1], target_dir + labels[1], target_size=(target_size, target_size))\n"
   ]
  }
 ],
 "metadata": {
  "kernelspec": {
   "display_name": "Python 3 (ipykernel)",
   "language": "python",
   "name": "python3"
  },
  "language_info": {
   "codemirror_mode": {
    "name": "ipython",
    "version": 3
   },
   "file_extension": ".py",
   "mimetype": "text/x-python",
   "name": "python",
   "nbconvert_exporter": "python",
   "pygments_lexer": "ipython3",
   "version": "3.9.1"
  }
 },
 "nbformat": 4,
 "nbformat_minor": 5
}
